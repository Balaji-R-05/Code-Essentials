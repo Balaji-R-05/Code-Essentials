{
 "cells": [
  {
   "cell_type": "code",
   "execution_count": 33,
   "metadata": {},
   "outputs": [],
   "source": [
    "# Importing required libraries and modules\n",
    "import numpy as np  # For numerical computations\n",
    "import matplotlib.pyplot as plt  # For data visualization (not used here but commonly used in data analysis workflows)\n",
    "import pandas as pd  # For data manipulation and analysis"
   ]
  },
  {
   "cell_type": "code",
   "execution_count": null,
   "metadata": {},
   "outputs": [],
   "source": [
    "# Loading the dataset\n",
    "dataset = pd.read_csv('Data.csv')  # Load the CSV file into a DataFrame\n",
    "x = dataset.iloc[:, :-1].values  # Extracting independent variables (features)\n",
    "y = dataset.iloc[:, -1].values  # Extracting dependent variable (target)\n",
    "\n",
    "# Display the dataset for initial inspection\n",
    "print(dataset)"
   ]
  },
  {
   "cell_type": "code",
   "execution_count": null,
   "metadata": {},
   "outputs": [],
   "source": [
    "# Handling missing values in the dataset\n",
    "from sklearn.impute import SimpleImputer  # Importing the SimpleImputer class for handling missing values\n",
    "\n",
    "# Initialize the imputer with a strategy to replace missing values with the mean of the column\n",
    "imputer = SimpleImputer(missing_values=np.nan, strategy=\"mean\") # 'mean', 'median', 'constant', 'most_frequent'\n",
    "imputer.fit(x[:, 1:3])  # Fit the imputer on the columns with missing values (e.g., columns 1 and 2)\n",
    "x[:, 1:3] = imputer.transform(x[:, 1:3])  # Apply the transformation to fill missing values\n",
    "\n",
    "# Display the dataset after handling missing values\n",
    "print(x)"
   ]
  },
  {
   "cell_type": "code",
   "execution_count": null,
   "metadata": {},
   "outputs": [],
   "source": [
    "# Encoding categorical independent variables\n",
    "from sklearn.compose import ColumnTransformer  # For column-wise transformations\n",
    "from sklearn.preprocessing import OneHotEncoder  # For one-hot encoding categorical data\n",
    "\n",
    "# Applying one-hot encoding to the first column (categorical feature) and leaving others as they are\n",
    "ct = ColumnTransformer(transformers=[(\"encoder\", OneHotEncoder(), [0])], remainder=\"passthrough\") \n",
    "x = ct.fit_transform(x)  # Transform the dataset\n",
    "print(x)  # Display the transformed dataset with one-hot encoded columns"
   ]
  },
  {
   "cell_type": "code",
   "execution_count": null,
   "metadata": {},
   "outputs": [],
   "source": [
    "# Encoding the dependent variable (target variable)\n",
    "from sklearn.preprocessing import LabelEncoder  # For encoding target labels\n",
    "\n",
    "le = LabelEncoder()  # Initialize the LabelEncoder\n",
    "y = le.fit_transform(y)  # Encode the target variable\n",
    "print(y)  # Display the encoded target variable"
   ]
  },
  {
   "cell_type": "code",
   "execution_count": 38,
   "metadata": {},
   "outputs": [],
   "source": [
    "# Splitting the dataset into training and testing sets\n",
    "from sklearn.model_selection import train_test_split  # For splitting datasets\n",
    "\n",
    "# Splitting the dataset with 80% for training and 20% for testing\n",
    "X_train, X_test, y_train, y_test = train_test_split(x, y, test_size=0.2, random_state=1)"
   ]
  },
  {
   "cell_type": "code",
   "execution_count": 39,
   "metadata": {},
   "outputs": [],
   "source": [
    "# Feature scaling for independent variables\n",
    "from sklearn.preprocessing import StandardScaler  # For standardizing features\n",
    "\n",
    "sc = StandardScaler()  # Initialize the StandardScaler\n",
    "X_train[:, 3:] = sc.fit_transform(X_train[:, 3:])  # Standardize the numerical columns in the training set\n",
    "X_test[:, 3:] = sc.transform(X_test[:, 3:])  # Standardize the numerical columns in the test set\n",
    "\n",
    "# The dataset is now preprocessed and ready for further analysis or model training."
   ]
  }
 ],
 "metadata": {
  "kernelspec": {
   "display_name": "Python 3",
   "language": "python",
   "name": "python3"
  },
  "language_info": {
   "codemirror_mode": {
    "name": "ipython",
    "version": 3
   },
   "file_extension": ".py",
   "mimetype": "text/x-python",
   "name": "python",
   "nbconvert_exporter": "python",
   "pygments_lexer": "ipython3",
   "version": "3.12.2"
  }
 },
 "nbformat": 4,
 "nbformat_minor": 2
}
